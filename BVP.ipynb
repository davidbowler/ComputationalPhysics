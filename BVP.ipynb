{
 "cells": [
  {
   "cell_type": "code",
   "execution_count": 1,
   "id": "655ece6b",
   "metadata": {},
   "outputs": [],
   "source": [
    "%matplotlib inline\n",
    "import numpy as np\n",
    "import matplotlib.pyplot as plt\n",
    "from scipy import integrate"
   ]
  },
  {
   "cell_type": "markdown",
   "id": "9d9f1954",
   "metadata": {},
   "source": [
    "# Boundary Value Problem\n",
    "\n",
    "I will work through the basic approach to solving a boundary value problem (BVP) for ordinary differential equations (ODEs).  Assuming a second order ODE for the variable $y(t)$, an *initial value problem* (IVP) specifies values for $y$ and $dy/dt$ at $t=t_{0}$.  A BVP instead specifies values for $y$ at times $t=t_{0}$ and $t=t_{1}$ which we will label $y_{0}$ and $y_{1}$.\n",
    "\n",
    "Of course, we still need to solve the ODE, which requires an initial value for $dy/dt$, which we have to guess (or at best estimate) and then vary.  The only available general approach to solving BVPs computationally is to perform a root search: we need to find the zeros of the quantity $y(t_{1}) - y_{1}$ as we vary $\\frac{dy}{dt}(t_{0})$.  The actual process is (relatively) straightforward; it's just understanding how it works that may be complicated.\n",
    "\n",
    "We'll start with a simple manual search, and then show how to automate it.  We'll consider the problem of calculating the height, $z$, of a projectile (say a ball of some kind) moving under the influence of gravity, and we will simply specify that the height of the ball at both times $t_{0}$ and $t_{1}$ should be zero; the ball is not constrained (i.e. there is no ground to hit, to avoid the trivial solution $z=0\\, \\forall \\,t$).\n",
    "\n",
    "## Setting up the ODE solver\n",
    "\n",
    "Assuming that there is only motion in the $z$ direction, we have the following pair of coupled equations:\n",
    "$$\\frac{dz}{dt} = v$$\n",
    "$$\\frac{dv}{dt} = -g$$\n",
    "where we will assume the standard value $g = 9.81ms^{-2}$.  The first thing to do is set up a function to return the right-hand sides of these coupled equations as a single array."
   ]
  },
  {
   "cell_type": "code",
   "execution_count": 2,
   "id": "75250451",
   "metadata": {},
   "outputs": [],
   "source": [
    "def ball_vertical_RHS(t,y):\n",
    "    \"\"\"Calculate RHS for projectile ODE\n",
    "    \n",
    "    Inputs:\n",
    "    t  Time (not used, but here for interface)\n",
    "    y  Array of z and v\n",
    "    \"\"\"\n",
    "    g = 9.81 # m/s^2\n",
    "    z = y[0]\n",
    "    v = y[1]\n",
    "    dz = v\n",
    "    dv = -g # Gravity acts downwards\n",
    "    return np.array([dz,dv])"
   ]
  },
  {
   "cell_type": "code",
   "execution_count": 3,
   "id": "1a3a4c23",
   "metadata": {},
   "outputs": [],
   "source": [
    "# Set up initial conditions\n",
    "t0 = 0.0 #s\n",
    "t1 = 10.0 #s\n",
    "m = 1 # kg\n",
    "\n",
    "# Boundary conditions that we want to fulfil\n",
    "z0 = 0.0 # m\n",
    "z1 = 0.0 # m "
   ]
  },
  {
   "cell_type": "markdown",
   "id": "91f6740e",
   "metadata": {},
   "source": [
    "Now we'll explore how we can solve the problem manually.  To solve for the final position of the projectile, we will use the SciPy `solve_ivp` function from the `integrate` module.  The return object (`y0` in the code below) stores positions and velocities in the array `y` for all timesteps; we access the position or velocity with the first index, and the timestep with the second index.  As we want the position and the final time, we use `y[0,-1]`. Let's assume a possible but not very sensible first velocity, $v_{0}=0.0$, and see what happens:"
   ]
  },
  {
   "cell_type": "code",
   "execution_count": 4,
   "id": "0dbd7fd5",
   "metadata": {},
   "outputs": [
    {
     "name": "stdout",
     "output_type": "stream",
     "text": [
      "With initial velocity 0.0m/s at t=10.0s we have z=-490.4999999999999m\n"
     ]
    }
   ],
   "source": [
    "v0 = 0.0 # m/s\n",
    "y0 = np.array([z0,v0])\n",
    "dist0 = integrate.solve_ivp(ball_vertical_RHS,(t0,t1),y0)\n",
    "print(f\"With initial velocity {v0}m/s at t={t1}s we have z={dist0.y[0,-1]}m\")"
   ]
  },
  {
   "cell_type": "markdown",
   "id": "a70400bd",
   "metadata": {},
   "source": [
    "This makes physical sense, since there is no initial velocity and constant negative acceleration.  Let's try a positive value of $v_0$."
   ]
  },
  {
   "cell_type": "code",
   "execution_count": 5,
   "id": "55b6ae6f",
   "metadata": {},
   "outputs": [
    {
     "name": "stdout",
     "output_type": "stream",
     "text": [
      "With initial velocity 50.0m/s at t=10.0s we have z=9.500000000000213m\n"
     ]
    }
   ],
   "source": [
    "v0 = 50.0 # m/s\n",
    "y0 = np.array([z0,v0])\n",
    "dist0 = integrate.solve_ivp(ball_vertical_RHS,(t0,t1),y0)\n",
    "print(f\"With initial velocity {v0}m/s at t={t1}s we have z={dist0.y[0,-1]}m\")"
   ]
  },
  {
   "cell_type": "markdown",
   "id": "03be97a8",
   "metadata": {},
   "source": [
    "That is much better, though now we need to reduce the initial velocity.  Notice how we're using $v_{0}$ as the independent variable; we might define $f(v_{0}) = z_{1}(v_{0}) - z_{1\\, \\mathrm{required}}$ as the function whose root we want to find.  We could now refine our solution manually, but that won't teach us anything, so I won't go any further.\n",
    "\n",
    "## Automating the search\n",
    "\n",
    "Let's define a python function which we can use in the root finding process."
   ]
  },
  {
   "cell_type": "code",
   "execution_count": 6,
   "id": "07188e3e",
   "metadata": {},
   "outputs": [],
   "source": [
    "def projectile_final_height_error(v0,z1):\n",
    "    \"\"\"Function to allow search for final height of projectile\n",
    "    by returning the difference between the actual height calculated\n",
    "    with initial velocity v0 and desired height z1.\n",
    "    \n",
    "    Assumes that t0, t1 and z0 are defined externally.\n",
    "    \n",
    "    Inputs:\n",
    "    v0  Starting velocity\n",
    "    z1  Target final height\n",
    "    \n",
    "    Output:\n",
    "    zerr  Value of z1(v0) - z1\n",
    "    \"\"\"\n",
    "    z0 = 0.0 # m\n",
    "    y0 = np.array([z0,v0])\n",
    "    \n",
    "    # Solve for the final position of the ball\n",
    "    dist0 = integrate.solve_ivp(ball_vertical_RHS,(t0,t1),y0)\n",
    "    \n",
    "    # Error in final position\n",
    "    err = dist0.y[0,-1] - z1\n",
    "    \n",
    "    return err"
   ]
  },
  {
   "cell_type": "markdown",
   "id": "5c505ac6",
   "metadata": {},
   "source": [
    "And now we will implement a root-finding procedure to discover the correct initial velocity, $v_{0}$, to give the desired height $z_{1}$ at $t_{1}$.  Here we'll use bisection for simplicity and clarity.  We'll use the first two values for $v_{0}$ that we found above manually as brackets."
   ]
  },
  {
   "cell_type": "code",
   "execution_count": 7,
   "id": "05115946",
   "metadata": {},
   "outputs": [
    {
     "name": "stdout",
     "output_type": "stream",
     "text": [
      "Brackets are (0.0,50.0) with heights of (-490.4999999999999,9.500000000000213)\n",
      "Finished after 18 iterations\n",
      "Initial velocity of 49.049949645996094m/s gives final height of -0.0005035400388777589m\n"
     ]
    }
   ],
   "source": [
    "# Target height\n",
    "z1 = 0.0\n",
    "\n",
    "# Brackets worked out manually above\n",
    "v0_1 = 0.0\n",
    "f_1 = projectile_final_height_error(v0_1,z1)\n",
    "v0_2 = 50.0\n",
    "f_2 = projectile_final_height_error(v0_2,z1)\n",
    "print(f\"Brackets are ({v0_1},{v0_2}) with heights of ({f_1},{f_2})\")\n",
    "\n",
    "# Parameters\n",
    "max_iter = 100\n",
    "iter = 0\n",
    "tol = 1e-3\n",
    "f_mid = 10*tol # Just to ensure that we enter the while loop\n",
    "\n",
    "while abs(f_mid)>tol and iter<max_iter:\n",
    "    # Simple bisection\n",
    "    v0_mid = 0.5*(v0_1 + v0_2)\n",
    "    f_mid = projectile_final_height_error(v0_mid,z1)\n",
    "    if f_mid*f_1>0:\n",
    "        v0_1 = v0_mid\n",
    "        f_1 = f_mid\n",
    "    else:\n",
    "        v0_2 = v0_mid\n",
    "        f_2 = f_mid\n",
    "    iter = iter+1\n",
    "print(f\"Finished after {iter} iterations\")\n",
    "print(f\"Initial velocity of {v0_mid}m/s gives final height of {f_mid}m\")"
   ]
  },
  {
   "cell_type": "code",
   "execution_count": null,
   "id": "dd9d10b4",
   "metadata": {},
   "outputs": [],
   "source": []
  }
 ],
 "metadata": {
  "kernelspec": {
   "display_name": "Python 3 (ipykernel)",
   "language": "python",
   "name": "python3"
  },
  "language_info": {
   "codemirror_mode": {
    "name": "ipython",
    "version": 3
   },
   "file_extension": ".py",
   "mimetype": "text/x-python",
   "name": "python",
   "nbconvert_exporter": "python",
   "pygments_lexer": "ipython3",
   "version": "3.9.13"
  }
 },
 "nbformat": 4,
 "nbformat_minor": 5
}
