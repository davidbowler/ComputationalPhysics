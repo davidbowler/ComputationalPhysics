{
 "cells": [
  {
   "cell_type": "markdown",
   "id": "556b0a90",
   "metadata": {},
   "source": [
    "## Solving second order ODEs as coupled first order ODEs"
   ]
  },
  {
   "cell_type": "code",
   "execution_count": null,
   "id": "f2f6af09",
   "metadata": {},
   "outputs": [],
   "source": [
    "%matplotlib inline\n",
    "import numpy as np\n",
    "import matplotlib.pyplot as plt"
   ]
  },
  {
   "cell_type": "markdown",
   "id": "17351a71",
   "metadata": {},
   "source": [
    "For a simple harmonic oscillator (SHO) we have the basic equation:\n",
    "$$m\\frac{d^{2}x}{dt^{2}} = -kx$$\n",
    "\n",
    "Using the standard definition of velocity:\n",
    "$$v = \\frac{dx}{dt}$$ \n",
    "\n",
    "we can rewrite the SHO equation:\n",
    "$$\\frac{dv}{dt} = -\\frac{kx}{m}$$ \n",
    "\n",
    "This now gives us *two coupled* equations, both of which are first order ODEs.  We must solve them *together* since they are coupled.  Note that we normally write the first equation as:\n",
    "\n",
    "$$\\frac{dx}{dt} = v$$\n",
    "\n",
    "so that we have the derivative on the left, and its definition on the right, to be compatible with the previous equation.\n",
    "\n",
    "Expanding the derivatives using a simple forward finite difference, $dx/dt = \\left(x(t+\\Delta t) - x(t)\\right)/\\Delta t$, we can rewrite the equations:\n",
    "$$x(t+\\Delta t) = x(t) + v(t)\\times \\Delta t$$\n",
    "$$v(t+\\Delta t) = v(t) - \\frac{kx(t)}{m}\\times \\Delta t$$\n",
    "\n",
    "Note that this simple expansion gives us Euler's method, which we know is low accuracy (first order in $\\Delta t$).  I will use it for simplicity below, though it's too inaccurate for serious analysis."
   ]
  },
  {
   "cell_type": "code",
   "execution_count": null,
   "id": "4f7bbbd9",
   "metadata": {},
   "outputs": [],
   "source": [
    "# SHO parameters (assume SI units throughout)\n",
    "m = 1.0\n",
    "k = 1.0\n",
    "dt = 0.01\n",
    "total_t = 10\n",
    "N_steps = int(total_t/dt)+1\n",
    "time = np.linspace(0,total_t,N_steps)"
   ]
  },
  {
   "cell_type": "code",
   "execution_count": null,
   "id": "e58fcc60",
   "metadata": {},
   "outputs": [],
   "source": [
    "# Initial conditions\n",
    "x0 = 1.0\n",
    "v0 = 0.0\n",
    "\n",
    "# Storage\n",
    "x = np.zeros(N_steps)\n",
    "v = np.zeros(N_steps)\n",
    "\n",
    "# Iterate over the coupled equations: this is Euler's method\n",
    "# which we know is not accurate, but is clear\n",
    "x[0] = x0\n",
    "v[0] = v0\n",
    "for i in range(0,N_steps-1):\n",
    "    x[i+1] = x[i] + v[i] * dt\n",
    "    v[i+1] = v[i] - (k*x[i]/m) * dt"
   ]
  },
  {
   "cell_type": "code",
   "execution_count": null,
   "id": "cd94b391",
   "metadata": {},
   "outputs": [],
   "source": [
    "plt.plot(time,x)\n",
    "plt.xlabel('Time')\n",
    "plt.ylabel('Displacement')\n",
    "plt.title(f'Motion of SHO from Euler with dt={dt}')\n",
    "plt.grid()"
   ]
  },
  {
   "cell_type": "markdown",
   "id": "cdcd53cb",
   "metadata": {},
   "source": [
    "The code above was a direct translation of the equations, but is not reusable for other problems, and is not efficient.  Now we turn to a case where we combine $x$ and $v$ into a single array as if we were solving a vector first order ODE.\n",
    "\n",
    "To do this, we have to combine the right-hand sides of the coupled ODEs into a single array, using a routine like the one below:"
   ]
  },
  {
   "cell_type": "code",
   "execution_count": null,
   "id": "bd9c2487",
   "metadata": {},
   "outputs": [],
   "source": [
    "def SHO_deriv(y,t):\n",
    "    \"\"\"Evaluate derivatives for position and velocity for SHO\n",
    "    with both quantities in same array\n",
    "    \n",
    "    Inputs:\n",
    "    y  Array containing x and v at present timestep\n",
    "    t  Time (not used here but required for general problem)\n",
    "    \n",
    "    Output:\n",
    "    dy Array containing dx and dv\n",
    "    \"\"\"\n",
    "    x = y[0]\n",
    "    v = y[1]\n",
    "    dx = v\n",
    "    dv = -k*x/m\n",
    "    return np.array([dx,dv])"
   ]
  },
  {
   "cell_type": "markdown",
   "id": "b8dc2c51",
   "metadata": {},
   "source": [
    "Now we can propagate any number of coupled equations with the code below; the only thing that would change between implementations would be the dimensions of`y` and `y0` and the return value of the right-hand side function (`SHO_deriv` in this case).  Note that these have to be the same!"
   ]
  },
  {
   "cell_type": "code",
   "execution_count": null,
   "id": "44f4ed81",
   "metadata": {},
   "outputs": [],
   "source": [
    "# Set up array to store both position and velocity for all time\n",
    "y = np.zeros((N_steps,2))\n",
    "\n",
    "# Initialise and run Euler's method with a simple update step\n",
    "y[0] = np.array([x0,v0])\n",
    "for i in range(0,N_steps-1):\n",
    "    y[i+1] = y[i] + SHO_deriv(y[i],time[i]) * dt"
   ]
  },
  {
   "cell_type": "code",
   "execution_count": null,
   "id": "811ec2f2",
   "metadata": {},
   "outputs": [],
   "source": [
    "# Plot resulting displacement\n",
    "plt.plot(time,y[:,0])\n",
    "plt.xlabel('Time')\n",
    "plt.ylabel(\"Displacement\")\n",
    "plt.title(f\"Motion of SHO from Euler, with dt={dt}\")\n",
    "plt.grid()"
   ]
  },
  {
   "cell_type": "markdown",
   "id": "1055482a",
   "metadata": {},
   "source": [
    "Finally, we extend this solution to a problem in two dimensions, so that position and velocity now have two components.  I will set up the initial velocity so that we should end up with circular motion; note that both components are just undergoing simple harmonic motion.\n",
    "\n",
    "As before, the only change here is in the dimensions of `y2d` and the initial position and velocity; because of the way we wrote the function, it needs no update."
   ]
  },
  {
   "cell_type": "code",
   "execution_count": null,
   "id": "c37da071",
   "metadata": {},
   "outputs": [],
   "source": [
    "# Set up position and velocity in two dimensions\n",
    "x2d0 = np.array((1.0,0.0))\n",
    "v2d0 = np.array((0.0,1.0))\n",
    "\n",
    "# Care needed with indexing: timesteps, then position/velocity, then x/y\n",
    "y2d = np.zeros((N_steps,2,2))\n",
    "\n",
    "# And iterate exactly as before (no change needed)\n",
    "y2d[0] = np.array([x2d0,v2d0])\n",
    "for i in range(0,N_steps-1):\n",
    "    y2d[i+1] = y2d[i] + SHO_deriv(y2d[i],time[i]) * dt"
   ]
  },
  {
   "cell_type": "code",
   "execution_count": null,
   "id": "244eeff8",
   "metadata": {},
   "outputs": [],
   "source": [
    "# Plot x vs y for all timesteps to see overall motion\n",
    "plt.plot(y2d[:,0,0],y2d[:,0,1]) # All timesteps, position, x and y\n",
    "plt.axis('scaled')\n",
    "plt.xlabel('x')\n",
    "plt.ylabel('y')\n",
    "plt.title('Trajectory')"
   ]
  },
  {
   "cell_type": "code",
   "execution_count": null,
   "id": "f8ba99e1",
   "metadata": {},
   "outputs": [],
   "source": [
    "plt.plot(time,y2d[:,0,0],label='x')\n",
    "plt.plot(time,y2d[:,0,1],label='y')\n",
    "plt.xlabel('Time')\n",
    "plt.ylabel(\"Displacement\")\n",
    "plt.title(f\"Motion of 2D SHO from Euler, with dt={dt}\")\n",
    "plt.legend()\n",
    "plt.grid()"
   ]
  },
  {
   "cell_type": "code",
   "execution_count": null,
   "id": "ddc771cf",
   "metadata": {},
   "outputs": [],
   "source": []
  }
 ],
 "metadata": {
  "kernelspec": {
   "display_name": "Python 3 (ipykernel)",
   "language": "python",
   "name": "python3"
  },
  "language_info": {
   "codemirror_mode": {
    "name": "ipython",
    "version": 3
   },
   "file_extension": ".py",
   "mimetype": "text/x-python",
   "name": "python",
   "nbconvert_exporter": "python",
   "pygments_lexer": "ipython3",
   "version": "3.9.13"
  }
 },
 "nbformat": 4,
 "nbformat_minor": 5
}
